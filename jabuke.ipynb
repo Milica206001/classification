{
 "cells": [
  {
   "cell_type": "code",
   "execution_count": 2,
   "id": "5e8108a7",
   "metadata": {},
   "outputs": [],
   "source": [
    "import numpy as np\n",
    "import pandas as pd\n",
    "import seaborn as sns\n",
    "import matplotlib.pyplot as plt"
   ]
  },
  {
   "cell_type": "code",
   "execution_count": 3,
   "id": "74b26831",
   "metadata": {},
   "outputs": [],
   "source": [
    "from sklearn.ensemble import RandomForestClassifier\n",
    "from sklearn.metrics import accuracy_score, confusion_matrix, precision_score, recall_score, ConfusionMatrixDisplay\n",
    "from sklearn.model_selection import RandomizedSearchCV, train_test_split\n",
    "from scipy.stats import randint"
   ]
  },
  {
   "cell_type": "code",
   "execution_count": null,
   "id": "01c4dd5f-7b9b-4e0e-ad8f-76aabcabf923",
   "metadata": {},
   "outputs": [],
   "source": [
    "#if you dont have graphviz install\n",
    "!conda install python-graphviz"
   ]
  },
  {
   "cell_type": "code",
   "execution_count": 5,
   "id": "f91d8f27",
   "metadata": {},
   "outputs": [],
   "source": [
    "from sklearn.tree import export_graphviz\n",
    "from IPython.display import Image\n",
    "import graphviz "
   ]
  },
  {
   "cell_type": "code",
   "execution_count": 50,
   "id": "126bffdb",
   "metadata": {},
   "outputs": [
    {
     "data": {
      "text/html": [
       "<div>\n",
       "<style scoped>\n",
       "    .dataframe tbody tr th:only-of-type {\n",
       "        vertical-align: middle;\n",
       "    }\n",
       "\n",
       "    .dataframe tbody tr th {\n",
       "        vertical-align: top;\n",
       "    }\n",
       "\n",
       "    .dataframe thead th {\n",
       "        text-align: right;\n",
       "    }\n",
       "</style>\n",
       "<table border=\"1\" class=\"dataframe\">\n",
       "  <thead>\n",
       "    <tr style=\"text-align: right;\">\n",
       "      <th></th>\n",
       "      <th>A_id</th>\n",
       "      <th>Size</th>\n",
       "      <th>Weight</th>\n",
       "      <th>Sweetness</th>\n",
       "      <th>Crunchiness</th>\n",
       "      <th>Juiciness</th>\n",
       "      <th>Ripeness</th>\n",
       "      <th>Acidity</th>\n",
       "      <th>Quality</th>\n",
       "    </tr>\n",
       "  </thead>\n",
       "  <tbody>\n",
       "    <tr>\n",
       "      <th>0</th>\n",
       "      <td>0.0</td>\n",
       "      <td>-3.970049</td>\n",
       "      <td>-2.512336</td>\n",
       "      <td>5.346330</td>\n",
       "      <td>-1.012009</td>\n",
       "      <td>1.844900</td>\n",
       "      <td>0.329840</td>\n",
       "      <td>-0.491590483</td>\n",
       "      <td>good</td>\n",
       "    </tr>\n",
       "    <tr>\n",
       "      <th>1</th>\n",
       "      <td>1.0</td>\n",
       "      <td>-1.195217</td>\n",
       "      <td>-2.839257</td>\n",
       "      <td>3.664059</td>\n",
       "      <td>1.588232</td>\n",
       "      <td>0.853286</td>\n",
       "      <td>0.867530</td>\n",
       "      <td>-0.722809367</td>\n",
       "      <td>good</td>\n",
       "    </tr>\n",
       "    <tr>\n",
       "      <th>2</th>\n",
       "      <td>2.0</td>\n",
       "      <td>-0.292024</td>\n",
       "      <td>-1.351282</td>\n",
       "      <td>-1.738429</td>\n",
       "      <td>-0.342616</td>\n",
       "      <td>2.838636</td>\n",
       "      <td>-0.038033</td>\n",
       "      <td>2.621636473</td>\n",
       "      <td>bad</td>\n",
       "    </tr>\n",
       "    <tr>\n",
       "      <th>3</th>\n",
       "      <td>3.0</td>\n",
       "      <td>-0.657196</td>\n",
       "      <td>-2.271627</td>\n",
       "      <td>1.324874</td>\n",
       "      <td>-0.097875</td>\n",
       "      <td>3.637970</td>\n",
       "      <td>-3.413761</td>\n",
       "      <td>0.790723217</td>\n",
       "      <td>good</td>\n",
       "    </tr>\n",
       "    <tr>\n",
       "      <th>4</th>\n",
       "      <td>4.0</td>\n",
       "      <td>1.364217</td>\n",
       "      <td>-1.296612</td>\n",
       "      <td>-0.384658</td>\n",
       "      <td>-0.553006</td>\n",
       "      <td>3.030874</td>\n",
       "      <td>-1.303849</td>\n",
       "      <td>0.501984036</td>\n",
       "      <td>good</td>\n",
       "    </tr>\n",
       "  </tbody>\n",
       "</table>\n",
       "</div>"
      ],
      "text/plain": [
       "   A_id      Size    Weight  Sweetness  Crunchiness  Juiciness  Ripeness  \\\n",
       "0   0.0 -3.970049 -2.512336   5.346330    -1.012009   1.844900  0.329840   \n",
       "1   1.0 -1.195217 -2.839257   3.664059     1.588232   0.853286  0.867530   \n",
       "2   2.0 -0.292024 -1.351282  -1.738429    -0.342616   2.838636 -0.038033   \n",
       "3   3.0 -0.657196 -2.271627   1.324874    -0.097875   3.637970 -3.413761   \n",
       "4   4.0  1.364217 -1.296612  -0.384658    -0.553006   3.030874 -1.303849   \n",
       "\n",
       "        Acidity Quality  \n",
       "0  -0.491590483    good  \n",
       "1  -0.722809367    good  \n",
       "2   2.621636473     bad  \n",
       "3   0.790723217    good  \n",
       "4   0.501984036    good  "
      ]
     },
     "execution_count": 50,
     "metadata": {},
     "output_type": "execute_result"
    }
   ],
   "source": [
    "df=pd.read_csv('C:\\\\Users\\\\Milica\\\\Desktop\\\\apple_quality.csv')\n",
    "df.head()\n"
   ]
  },
  {
   "cell_type": "code",
   "execution_count": 51,
   "id": "f7eec52b",
   "metadata": {},
   "outputs": [
    {
     "data": {
      "text/html": [
       "<div>\n",
       "<style scoped>\n",
       "    .dataframe tbody tr th:only-of-type {\n",
       "        vertical-align: middle;\n",
       "    }\n",
       "\n",
       "    .dataframe tbody tr th {\n",
       "        vertical-align: top;\n",
       "    }\n",
       "\n",
       "    .dataframe thead th {\n",
       "        text-align: right;\n",
       "    }\n",
       "</style>\n",
       "<table border=\"1\" class=\"dataframe\">\n",
       "  <thead>\n",
       "    <tr style=\"text-align: right;\">\n",
       "      <th></th>\n",
       "      <th>A_id</th>\n",
       "      <th>Size</th>\n",
       "      <th>Weight</th>\n",
       "      <th>Sweetness</th>\n",
       "      <th>Crunchiness</th>\n",
       "      <th>Juiciness</th>\n",
       "      <th>Ripeness</th>\n",
       "    </tr>\n",
       "  </thead>\n",
       "  <tbody>\n",
       "    <tr>\n",
       "      <th>count</th>\n",
       "      <td>4000.000000</td>\n",
       "      <td>4000.000000</td>\n",
       "      <td>4000.000000</td>\n",
       "      <td>4000.000000</td>\n",
       "      <td>4000.000000</td>\n",
       "      <td>4000.000000</td>\n",
       "      <td>4000.000000</td>\n",
       "    </tr>\n",
       "    <tr>\n",
       "      <th>mean</th>\n",
       "      <td>1999.500000</td>\n",
       "      <td>-0.503015</td>\n",
       "      <td>-0.989547</td>\n",
       "      <td>-0.470479</td>\n",
       "      <td>0.985478</td>\n",
       "      <td>0.512118</td>\n",
       "      <td>0.498277</td>\n",
       "    </tr>\n",
       "    <tr>\n",
       "      <th>std</th>\n",
       "      <td>1154.844867</td>\n",
       "      <td>1.928059</td>\n",
       "      <td>1.602507</td>\n",
       "      <td>1.943441</td>\n",
       "      <td>1.402757</td>\n",
       "      <td>1.930286</td>\n",
       "      <td>1.874427</td>\n",
       "    </tr>\n",
       "    <tr>\n",
       "      <th>min</th>\n",
       "      <td>0.000000</td>\n",
       "      <td>-7.151703</td>\n",
       "      <td>-7.149848</td>\n",
       "      <td>-6.894485</td>\n",
       "      <td>-6.055058</td>\n",
       "      <td>-5.961897</td>\n",
       "      <td>-5.864599</td>\n",
       "    </tr>\n",
       "    <tr>\n",
       "      <th>25%</th>\n",
       "      <td>999.750000</td>\n",
       "      <td>-1.816765</td>\n",
       "      <td>-2.011770</td>\n",
       "      <td>-1.738425</td>\n",
       "      <td>0.062764</td>\n",
       "      <td>-0.801286</td>\n",
       "      <td>-0.771677</td>\n",
       "    </tr>\n",
       "    <tr>\n",
       "      <th>50%</th>\n",
       "      <td>1999.500000</td>\n",
       "      <td>-0.513703</td>\n",
       "      <td>-0.984736</td>\n",
       "      <td>-0.504758</td>\n",
       "      <td>0.998249</td>\n",
       "      <td>0.534219</td>\n",
       "      <td>0.503445</td>\n",
       "    </tr>\n",
       "    <tr>\n",
       "      <th>75%</th>\n",
       "      <td>2999.250000</td>\n",
       "      <td>0.805526</td>\n",
       "      <td>0.030976</td>\n",
       "      <td>0.801922</td>\n",
       "      <td>1.894234</td>\n",
       "      <td>1.835976</td>\n",
       "      <td>1.766212</td>\n",
       "    </tr>\n",
       "    <tr>\n",
       "      <th>max</th>\n",
       "      <td>3999.000000</td>\n",
       "      <td>6.406367</td>\n",
       "      <td>5.790714</td>\n",
       "      <td>6.374916</td>\n",
       "      <td>7.619852</td>\n",
       "      <td>7.364403</td>\n",
       "      <td>7.237837</td>\n",
       "    </tr>\n",
       "  </tbody>\n",
       "</table>\n",
       "</div>"
      ],
      "text/plain": [
       "              A_id         Size       Weight    Sweetness  Crunchiness  \\\n",
       "count  4000.000000  4000.000000  4000.000000  4000.000000  4000.000000   \n",
       "mean   1999.500000    -0.503015    -0.989547    -0.470479     0.985478   \n",
       "std    1154.844867     1.928059     1.602507     1.943441     1.402757   \n",
       "min       0.000000    -7.151703    -7.149848    -6.894485    -6.055058   \n",
       "25%     999.750000    -1.816765    -2.011770    -1.738425     0.062764   \n",
       "50%    1999.500000    -0.513703    -0.984736    -0.504758     0.998249   \n",
       "75%    2999.250000     0.805526     0.030976     0.801922     1.894234   \n",
       "max    3999.000000     6.406367     5.790714     6.374916     7.619852   \n",
       "\n",
       "         Juiciness     Ripeness  \n",
       "count  4000.000000  4000.000000  \n",
       "mean      0.512118     0.498277  \n",
       "std       1.930286     1.874427  \n",
       "min      -5.961897    -5.864599  \n",
       "25%      -0.801286    -0.771677  \n",
       "50%       0.534219     0.503445  \n",
       "75%       1.835976     1.766212  \n",
       "max       7.364403     7.237837  "
      ]
     },
     "execution_count": 51,
     "metadata": {},
     "output_type": "execute_result"
    }
   ],
   "source": [
    "df.describe()"
   ]
  },
  {
   "cell_type": "code",
   "execution_count": 52,
   "id": "7107f532",
   "metadata": {},
   "outputs": [],
   "source": [
    "#drop irrelevant columns\n",
    "df=df.drop(columns=['A_id'])"
   ]
  },
  {
   "cell_type": "code",
   "execution_count": 53,
   "id": "adfb2865",
   "metadata": {},
   "outputs": [
    {
     "data": {
      "text/plain": [
       "Size           float64\n",
       "Weight         float64\n",
       "Sweetness      float64\n",
       "Crunchiness    float64\n",
       "Juiciness      float64\n",
       "Ripeness       float64\n",
       "Acidity         object\n",
       "Quality         object\n",
       "dtype: object"
      ]
     },
     "execution_count": 53,
     "metadata": {},
     "output_type": "execute_result"
    }
   ],
   "source": [
    "df.dtypes"
   ]
  },
  {
   "cell_type": "code",
   "execution_count": 54,
   "id": "68045ce8-08cf-44e2-afb5-cd00c58397a2",
   "metadata": {},
   "outputs": [
    {
     "name": "stdout",
     "output_type": "stream",
     "text": [
      "       Size  Weight  Sweetness  Crunchiness  Juiciness  Ripeness  Acidity  \\\n",
      "0     False   False      False        False      False     False    False   \n",
      "1     False   False      False        False      False     False    False   \n",
      "2     False   False      False        False      False     False    False   \n",
      "3     False   False      False        False      False     False    False   \n",
      "4     False   False      False        False      False     False    False   \n",
      "...     ...     ...        ...          ...        ...       ...      ...   \n",
      "3996  False   False      False        False      False     False    False   \n",
      "3997  False   False      False        False      False     False    False   \n",
      "3998  False   False      False        False      False     False    False   \n",
      "3999  False   False      False        False      False     False    False   \n",
      "4000   True    True       True         True       True      True    False   \n",
      "\n",
      "      Quality  \n",
      "0       False  \n",
      "1       False  \n",
      "2       False  \n",
      "3       False  \n",
      "4       False  \n",
      "...       ...  \n",
      "3996    False  \n",
      "3997    False  \n",
      "3998    False  \n",
      "3999    False  \n",
      "4000     True  \n",
      "\n",
      "[4001 rows x 8 columns]\n",
      "Number of rows with na values:  1\n"
     ]
    }
   ],
   "source": [
    "columns_with_na=df.isna()\n",
    "print(columns_with_na)\n",
    "print('Number of rows with na values: ',df.isna().any(axis=1).sum())\n",
    "# one row is problematic"
   ]
  },
  {
   "cell_type": "code",
   "execution_count": 55,
   "id": "7b67a0b3-792c-460a-a7a6-0e868109ab9b",
   "metadata": {},
   "outputs": [],
   "source": [
    "df = df.drop(4000)"
   ]
  },
  {
   "cell_type": "code",
   "execution_count": 56,
   "id": "f38f7ef8",
   "metadata": {},
   "outputs": [
    {
     "data": {
      "text/plain": [
       "Quality\n",
       "good    2004\n",
       "bad     1996\n",
       "Name: count, dtype: int64"
      ]
     },
     "execution_count": 56,
     "metadata": {},
     "output_type": "execute_result"
    }
   ],
   "source": [
    "df.Quality.value_counts()\n",
    "#well balanced"
   ]
  },
  {
   "cell_type": "code",
   "execution_count": 57,
   "id": "bd6acdbf",
   "metadata": {},
   "outputs": [],
   "source": [
    "x=df.drop(['Quality'],axis=1)\n"
   ]
  },
  {
   "cell_type": "code",
   "execution_count": 58,
   "id": "b1cb973e",
   "metadata": {},
   "outputs": [
    {
     "data": {
      "text/plain": [
       "4000"
      ]
     },
     "execution_count": 58,
     "metadata": {},
     "output_type": "execute_result"
    }
   ],
   "source": [
    "y=df.Quality\n",
    "y.size"
   ]
  },
  {
   "cell_type": "code",
   "execution_count": 59,
   "id": "163cd919",
   "metadata": {},
   "outputs": [],
   "source": [
    "from sklearn.model_selection import train_test_split\n",
    "from sklearn.ensemble import RandomForestClassifier\n",
    "from sklearn.tree import DecisionTreeClassifier\n",
    "from sklearn.model_selection import RandomizedSearchCV"
   ]
  },
  {
   "cell_type": "code",
   "execution_count": 69,
   "id": "2549d7f9-0ad6-4bc3-8c4c-dbcbcd087495",
   "metadata": {},
   "outputs": [
    {
     "name": "stdout",
     "output_type": "stream",
     "text": [
      "Testing Accuracy (before pruning): 0.81\n",
      "Testing Accuracy (max_depth=3): 0.69375\n",
      "Testing Accuracy (max_depth=4): 0.7425\n",
      "Testing Accuracy (max_depth=5): 0.74\n",
      "Testing Accuracy (max_depth=6): 0.795\n",
      "Testing Accuracy (max_depth=7): 0.80875\n",
      "Testing Accuracy (max_depth=10): 0.80625\n",
      "Testing Accuracy (max_depth=13): 0.81625\n"
     ]
    }
   ],
   "source": [
    "# Split data into training and testing sets\n",
    "x_train, x_test, y_train, y_test = train_test_split(x, y, test_size=0.2, random_state=42)\n",
    "\n",
    "# Train a decision tree classifier\n",
    "tree = DecisionTreeClassifier(random_state=42)\n",
    "tree.fit(x_train, y_train)\n",
    "\n",
    "# Evaluate performance on testing set\n",
    "test_accuracy = accuracy_score(y_test, tree.predict(x_test))\n",
    "print(\"Testing Accuracy (before pruning):\", test_accuracy)\n",
    "\n",
    "max_depths=[3,4,5,6,7,10,13]\n",
    "\n",
    "for max_depth in max_depths:\n",
    "    # Train a decision tree classifier with the current max_depth\n",
    "    tree = DecisionTreeClassifier(max_depth=max_depth, random_state=42)\n",
    "    tree.fit(x_train, y_train)\n",
    "\n",
    "    # Evaluate performance on testing set\n",
    "    test_accuracy = accuracy_score(y_test, tree.predict(x_test))\n",
    "    print(f\"Testing Accuracy (max_depth={max_depth}): {test_accuracy}\")\n"
   ]
  },
  {
   "cell_type": "code",
   "execution_count": 88,
   "id": "10ce1138-3129-4194-99a9-d01531725113",
   "metadata": {},
   "outputs": [
    {
     "name": "stdout",
     "output_type": "stream",
     "text": [
      "Accuracy: 0.89625\n"
     ]
    }
   ],
   "source": [
    "rf = RandomForestClassifier(random_state=42)\n",
    "#train the model\n",
    "rf.fit(x_train, y_train)\n",
    "predictions = rf.predict(x_test)\n",
    "\n",
    "# Calculate accuracy\n",
    "accuracy = accuracy_score(y_test, predictions)\n",
    "\n",
    "print(\"Accuracy:\", accuracy)"
   ]
  },
  {
   "cell_type": "code",
   "execution_count": 75,
   "id": "c1f34464",
   "metadata": {},
   "outputs": [],
   "source": [
    "from sklearn.tree import export_graphviz\n",
    "tree=rf.estimators_[0]\n",
    "dot_data=export_graphviz(tree,\n",
    "                            feature_names=x_train.columns,  \n",
    "                            filled=True,  \n",
    "                            max_depth=2, \n",
    "                            impurity=False, \n",
    "                            proportion=True)"
   ]
  },
  {
   "cell_type": "code",
   "execution_count": 76,
   "id": "0053cf8b",
   "metadata": {},
   "outputs": [
    {
     "data": {
      "image/svg+xml": [
       "<?xml version=\"1.0\" encoding=\"UTF-8\" standalone=\"no\"?>\n",
       "<!DOCTYPE svg PUBLIC \"-//W3C//DTD SVG 1.1//EN\"\n",
       " \"http://www.w3.org/Graphics/SVG/1.1/DTD/svg11.dtd\">\n",
       "<!-- Generated by graphviz version 10.0.1 (20240210.2158)\n",
       " -->\n",
       "<!-- Title: Tree Pages: 1 -->\n",
       "<svg width=\"676pt\" height=\"325pt\"\n",
       " viewBox=\"0.00 0.00 676.38 324.50\" xmlns=\"http://www.w3.org/2000/svg\" xmlns:xlink=\"http://www.w3.org/1999/xlink\">\n",
       "<g id=\"graph0\" class=\"graph\" transform=\"scale(1 1) rotate(0) translate(4 320.5)\">\n",
       "<title>Tree</title>\n",
       "<polygon fill=\"white\" stroke=\"none\" points=\"-4,4 -4,-320.5 672.38,-320.5 672.38,4 -4,4\"/>\n",
       "<!-- 0 -->\n",
       "<g id=\"node1\" class=\"node\">\n",
       "<title>0</title>\n",
       "<polygon fill=\"#fbfdfe\" stroke=\"black\" points=\"409.25,-316.5 256,-316.5 256,-259 409.25,-259 409.25,-316.5\"/>\n",
       "<text text-anchor=\"middle\" x=\"332.62\" y=\"-299.2\" font-family=\"Helvetica,sans-Serif\" font-size=\"14.00\">Juiciness &lt;= 0.117</text>\n",
       "<text text-anchor=\"middle\" x=\"332.62\" y=\"-282.7\" font-family=\"Helvetica,sans-Serif\" font-size=\"14.00\">samples = 100.0%</text>\n",
       "<text text-anchor=\"middle\" x=\"332.62\" y=\"-266.2\" font-family=\"Helvetica,sans-Serif\" font-size=\"14.00\">value = [0.494, 0.506]</text>\n",
       "</g>\n",
       "<!-- 1 -->\n",
       "<g id=\"node2\" class=\"node\">\n",
       "<title>1</title>\n",
       "<polygon fill=\"#f3c5a3\" stroke=\"black\" points=\"324.25,-223 171,-223 171,-165.5 324.25,-165.5 324.25,-223\"/>\n",
       "<text text-anchor=\"middle\" x=\"247.62\" y=\"-205.7\" font-family=\"Helvetica,sans-Serif\" font-size=\"14.00\">Juiciness &lt;= &#45;1.552</text>\n",
       "<text text-anchor=\"middle\" x=\"247.62\" y=\"-189.2\" font-family=\"Helvetica,sans-Serif\" font-size=\"14.00\">samples = 39.5%</text>\n",
       "<text text-anchor=\"middle\" x=\"247.62\" y=\"-172.7\" font-family=\"Helvetica,sans-Serif\" font-size=\"14.00\">value = [0.651, 0.349]</text>\n",
       "</g>\n",
       "<!-- 0&#45;&gt;1 -->\n",
       "<g id=\"edge1\" class=\"edge\">\n",
       "<title>0&#45;&gt;1</title>\n",
       "<path fill=\"none\" stroke=\"black\" d=\"M306.66,-258.8C298.74,-250.28 289.92,-240.78 281.56,-231.77\"/>\n",
       "<polygon fill=\"black\" stroke=\"black\" points=\"284.12,-229.4 274.75,-224.45 279,-234.16 284.12,-229.4\"/>\n",
       "<text text-anchor=\"middle\" x=\"272.8\" y=\"-243.28\" font-family=\"Helvetica,sans-Serif\" font-size=\"14.00\">True</text>\n",
       "</g>\n",
       "<!-- 316 -->\n",
       "<g id=\"node9\" class=\"node\">\n",
       "<title>316</title>\n",
       "<polygon fill=\"#b9ddf6\" stroke=\"black\" points=\"495.25,-223 342,-223 342,-165.5 495.25,-165.5 495.25,-223\"/>\n",
       "<text text-anchor=\"middle\" x=\"418.62\" y=\"-205.7\" font-family=\"Helvetica,sans-Serif\" font-size=\"14.00\">Weight &lt;= &#45;3.258</text>\n",
       "<text text-anchor=\"middle\" x=\"418.62\" y=\"-189.2\" font-family=\"Helvetica,sans-Serif\" font-size=\"14.00\">samples = 60.5%</text>\n",
       "<text text-anchor=\"middle\" x=\"418.62\" y=\"-172.7\" font-family=\"Helvetica,sans-Serif\" font-size=\"14.00\">value = [0.393, 0.607]</text>\n",
       "</g>\n",
       "<!-- 0&#45;&gt;316 -->\n",
       "<g id=\"edge8\" class=\"edge\">\n",
       "<title>0&#45;&gt;316</title>\n",
       "<path fill=\"none\" stroke=\"black\" d=\"M358.9,-258.8C366.99,-250.19 376.02,-240.58 384.56,-231.5\"/>\n",
       "<polygon fill=\"black\" stroke=\"black\" points=\"386.88,-234.13 391.18,-224.45 381.78,-229.34 386.88,-234.13\"/>\n",
       "<text text-anchor=\"middle\" x=\"392.99\" y=\"-243.28\" font-family=\"Helvetica,sans-Serif\" font-size=\"14.00\">False</text>\n",
       "</g>\n",
       "<!-- 2 -->\n",
       "<g id=\"node3\" class=\"node\">\n",
       "<title>2</title>\n",
       "<polygon fill=\"#eca26d\" stroke=\"black\" points=\"153.25,-129.5 0,-129.5 0,-72 153.25,-72 153.25,-129.5\"/>\n",
       "<text text-anchor=\"middle\" x=\"76.62\" y=\"-112.2\" font-family=\"Helvetica,sans-Serif\" font-size=\"14.00\">Weight &lt;= 0.646</text>\n",
       "<text text-anchor=\"middle\" x=\"76.62\" y=\"-95.7\" font-family=\"Helvetica,sans-Serif\" font-size=\"14.00\">samples = 13.7%</text>\n",
       "<text text-anchor=\"middle\" x=\"76.62\" y=\"-79.2\" font-family=\"Helvetica,sans-Serif\" font-size=\"14.00\">value = [0.794, 0.206]</text>\n",
       "</g>\n",
       "<!-- 1&#45;&gt;2 -->\n",
       "<g id=\"edge2\" class=\"edge\">\n",
       "<title>1&#45;&gt;2</title>\n",
       "<path fill=\"none\" stroke=\"black\" d=\"M194.92,-165.05C177.29,-155.61 157.46,-145 139.15,-135.2\"/>\n",
       "<polygon fill=\"black\" stroke=\"black\" points=\"140.95,-132.2 130.49,-130.57 137.65,-138.37 140.95,-132.2\"/>\n",
       "</g>\n",
       "<!-- 95 -->\n",
       "<g id=\"node6\" class=\"node\">\n",
       "<title>95</title>\n",
       "<polygon fill=\"#f8decb\" stroke=\"black\" points=\"324.25,-129.5 171,-129.5 171,-72 324.25,-72 324.25,-129.5\"/>\n",
       "<text text-anchor=\"middle\" x=\"247.62\" y=\"-112.2\" font-family=\"Helvetica,sans-Serif\" font-size=\"14.00\">Ripeness &lt;= &#45;0.638</text>\n",
       "<text text-anchor=\"middle\" x=\"247.62\" y=\"-95.7\" font-family=\"Helvetica,sans-Serif\" font-size=\"14.00\">samples = 25.8%</text>\n",
       "<text text-anchor=\"middle\" x=\"247.62\" y=\"-79.2\" font-family=\"Helvetica,sans-Serif\" font-size=\"14.00\">value = [0.576, 0.424]</text>\n",
       "</g>\n",
       "<!-- 1&#45;&gt;95 -->\n",
       "<g id=\"edge5\" class=\"edge\">\n",
       "<title>1&#45;&gt;95</title>\n",
       "<path fill=\"none\" stroke=\"black\" d=\"M247.62,-165.3C247.62,-157.74 247.62,-149.42 247.62,-141.35\"/>\n",
       "<polygon fill=\"black\" stroke=\"black\" points=\"251.13,-141.36 247.63,-131.36 244.13,-141.36 251.13,-141.36\"/>\n",
       "</g>\n",
       "<!-- 3 -->\n",
       "<g id=\"node4\" class=\"node\">\n",
       "<title>3</title>\n",
       "<polygon fill=\"#c0c0c0\" stroke=\"black\" points=\"77.62,-36 23.62,-36 23.62,0 77.62,0 77.62,-36\"/>\n",
       "<text text-anchor=\"middle\" x=\"50.62\" y=\"-12.95\" font-family=\"Helvetica,sans-Serif\" font-size=\"14.00\">(...)</text>\n",
       "</g>\n",
       "<!-- 2&#45;&gt;3 -->\n",
       "<g id=\"edge3\" class=\"edge\">\n",
       "<title>2&#45;&gt;3</title>\n",
       "<path fill=\"none\" stroke=\"black\" d=\"M67.53,-71.51C64.97,-63.56 62.19,-54.93 59.64,-47\"/>\n",
       "<polygon fill=\"black\" stroke=\"black\" points=\"62.97,-45.93 56.58,-37.49 56.31,-48.08 62.97,-45.93\"/>\n",
       "</g>\n",
       "<!-- 68 -->\n",
       "<g id=\"node5\" class=\"node\">\n",
       "<title>68</title>\n",
       "<polygon fill=\"#c0c0c0\" stroke=\"black\" points=\"149.62,-36 95.62,-36 95.62,0 149.62,0 149.62,-36\"/>\n",
       "<text text-anchor=\"middle\" x=\"122.62\" y=\"-12.95\" font-family=\"Helvetica,sans-Serif\" font-size=\"14.00\">(...)</text>\n",
       "</g>\n",
       "<!-- 2&#45;&gt;68 -->\n",
       "<g id=\"edge4\" class=\"edge\">\n",
       "<title>2&#45;&gt;68</title>\n",
       "<path fill=\"none\" stroke=\"black\" d=\"M92.71,-71.51C97.45,-63.19 102.62,-54.12 107.3,-45.89\"/>\n",
       "<polygon fill=\"black\" stroke=\"black\" points=\"110.26,-47.78 112.17,-37.36 104.18,-44.32 110.26,-47.78\"/>\n",
       "</g>\n",
       "<!-- 96 -->\n",
       "<g id=\"node7\" class=\"node\">\n",
       "<title>96</title>\n",
       "<polygon fill=\"#c0c0c0\" stroke=\"black\" points=\"232.62,-36 178.62,-36 178.62,0 232.62,0 232.62,-36\"/>\n",
       "<text text-anchor=\"middle\" x=\"205.62\" y=\"-12.95\" font-family=\"Helvetica,sans-Serif\" font-size=\"14.00\">(...)</text>\n",
       "</g>\n",
       "<!-- 95&#45;&gt;96 -->\n",
       "<g id=\"edge6\" class=\"edge\">\n",
       "<title>95&#45;&gt;96</title>\n",
       "<path fill=\"none\" stroke=\"black\" d=\"M232.94,-71.51C228.66,-63.29 224,-54.32 219.76,-46.17\"/>\n",
       "<polygon fill=\"black\" stroke=\"black\" points=\"222.91,-44.64 215.19,-37.39 216.7,-47.87 222.91,-44.64\"/>\n",
       "</g>\n",
       "<!-- 145 -->\n",
       "<g id=\"node8\" class=\"node\">\n",
       "<title>145</title>\n",
       "<polygon fill=\"#c0c0c0\" stroke=\"black\" points=\"304.62,-36 250.62,-36 250.62,0 304.62,0 304.62,-36\"/>\n",
       "<text text-anchor=\"middle\" x=\"277.62\" y=\"-12.95\" font-family=\"Helvetica,sans-Serif\" font-size=\"14.00\">(...)</text>\n",
       "</g>\n",
       "<!-- 95&#45;&gt;145 -->\n",
       "<g id=\"edge7\" class=\"edge\">\n",
       "<title>95&#45;&gt;145</title>\n",
       "<path fill=\"none\" stroke=\"black\" d=\"M258.12,-71.51C261.1,-63.47 264.35,-54.73 267.33,-46.72\"/>\n",
       "<polygon fill=\"black\" stroke=\"black\" points=\"270.56,-48.06 270.77,-37.46 264,-45.62 270.56,-48.06\"/>\n",
       "</g>\n",
       "<!-- 317 -->\n",
       "<g id=\"node10\" class=\"node\">\n",
       "<title>317</title>\n",
       "<polygon fill=\"#45a3e7\" stroke=\"black\" points=\"495.25,-129.5 342,-129.5 342,-72 495.25,-72 495.25,-129.5\"/>\n",
       "<text text-anchor=\"middle\" x=\"418.62\" y=\"-112.2\" font-family=\"Helvetica,sans-Serif\" font-size=\"14.00\">Size &lt;= &#45;2.25</text>\n",
       "<text text-anchor=\"middle\" x=\"418.62\" y=\"-95.7\" font-family=\"Helvetica,sans-Serif\" font-size=\"14.00\">samples = 5.4%</text>\n",
       "<text text-anchor=\"middle\" x=\"418.62\" y=\"-79.2\" font-family=\"Helvetica,sans-Serif\" font-size=\"14.00\">value = [0.056, 0.944]</text>\n",
       "</g>\n",
       "<!-- 316&#45;&gt;317 -->\n",
       "<g id=\"edge9\" class=\"edge\">\n",
       "<title>316&#45;&gt;317</title>\n",
       "<path fill=\"none\" stroke=\"black\" d=\"M418.62,-165.3C418.62,-157.74 418.62,-149.42 418.62,-141.35\"/>\n",
       "<polygon fill=\"black\" stroke=\"black\" points=\"422.13,-141.36 418.63,-131.36 415.13,-141.36 422.13,-141.36\"/>\n",
       "</g>\n",
       "<!-- 338 -->\n",
       "<g id=\"node13\" class=\"node\">\n",
       "<title>338</title>\n",
       "<polygon fill=\"#cde6f8\" stroke=\"black\" points=\"668.38,-129.5 512.88,-129.5 512.88,-72 668.38,-72 668.38,-129.5\"/>\n",
       "<text text-anchor=\"middle\" x=\"590.62\" y=\"-112.2\" font-family=\"Helvetica,sans-Serif\" font-size=\"14.00\">Crunchiness &lt;= 1.343</text>\n",
       "<text text-anchor=\"middle\" x=\"590.62\" y=\"-95.7\" font-family=\"Helvetica,sans-Serif\" font-size=\"14.00\">samples = 55.1%</text>\n",
       "<text text-anchor=\"middle\" x=\"590.62\" y=\"-79.2\" font-family=\"Helvetica,sans-Serif\" font-size=\"14.00\">value = [0.428, 0.572]</text>\n",
       "</g>\n",
       "<!-- 316&#45;&gt;338 -->\n",
       "<g id=\"edge12\" class=\"edge\">\n",
       "<title>316&#45;&gt;338</title>\n",
       "<path fill=\"none\" stroke=\"black\" d=\"M471.63,-165.05C489.37,-155.61 509.32,-145 527.74,-135.2\"/>\n",
       "<polygon fill=\"black\" stroke=\"black\" points=\"529.27,-138.35 536.45,-130.57 525.98,-132.17 529.27,-138.35\"/>\n",
       "</g>\n",
       "<!-- 318 -->\n",
       "<g id=\"node11\" class=\"node\">\n",
       "<title>318</title>\n",
       "<polygon fill=\"#c0c0c0\" stroke=\"black\" points=\"399.62,-36 345.62,-36 345.62,0 399.62,0 399.62,-36\"/>\n",
       "<text text-anchor=\"middle\" x=\"372.62\" y=\"-12.95\" font-family=\"Helvetica,sans-Serif\" font-size=\"14.00\">(...)</text>\n",
       "</g>\n",
       "<!-- 317&#45;&gt;318 -->\n",
       "<g id=\"edge10\" class=\"edge\">\n",
       "<title>317&#45;&gt;318</title>\n",
       "<path fill=\"none\" stroke=\"black\" d=\"M402.54,-71.51C397.8,-63.19 392.63,-54.12 387.95,-45.89\"/>\n",
       "<polygon fill=\"black\" stroke=\"black\" points=\"391.07,-44.32 383.08,-37.36 384.99,-47.78 391.07,-44.32\"/>\n",
       "</g>\n",
       "<!-- 321 -->\n",
       "<g id=\"node12\" class=\"node\">\n",
       "<title>321</title>\n",
       "<polygon fill=\"#c0c0c0\" stroke=\"black\" points=\"471.62,-36 417.62,-36 417.62,0 471.62,0 471.62,-36\"/>\n",
       "<text text-anchor=\"middle\" x=\"444.62\" y=\"-12.95\" font-family=\"Helvetica,sans-Serif\" font-size=\"14.00\">(...)</text>\n",
       "</g>\n",
       "<!-- 317&#45;&gt;321 -->\n",
       "<g id=\"edge11\" class=\"edge\">\n",
       "<title>317&#45;&gt;321</title>\n",
       "<path fill=\"none\" stroke=\"black\" d=\"M427.72,-71.51C430.28,-63.56 433.06,-54.93 435.61,-47\"/>\n",
       "<polygon fill=\"black\" stroke=\"black\" points=\"438.94,-48.08 438.67,-37.49 432.28,-45.93 438.94,-48.08\"/>\n",
       "</g>\n",
       "<!-- 339 -->\n",
       "<g id=\"node14\" class=\"node\">\n",
       "<title>339</title>\n",
       "<polygon fill=\"#c0c0c0\" stroke=\"black\" points=\"581.62,-36 527.62,-36 527.62,0 581.62,0 581.62,-36\"/>\n",
       "<text text-anchor=\"middle\" x=\"554.62\" y=\"-12.95\" font-family=\"Helvetica,sans-Serif\" font-size=\"14.00\">(...)</text>\n",
       "</g>\n",
       "<!-- 338&#45;&gt;339 -->\n",
       "<g id=\"edge13\" class=\"edge\">\n",
       "<title>338&#45;&gt;339</title>\n",
       "<path fill=\"none\" stroke=\"black\" d=\"M578.03,-71.51C574.41,-63.38 570.46,-54.52 566.86,-46.44\"/>\n",
       "<polygon fill=\"black\" stroke=\"black\" points=\"570.11,-45.14 562.84,-37.43 563.72,-47.99 570.11,-45.14\"/>\n",
       "</g>\n",
       "<!-- 634 -->\n",
       "<g id=\"node15\" class=\"node\">\n",
       "<title>634</title>\n",
       "<polygon fill=\"#c0c0c0\" stroke=\"black\" points=\"653.62,-36 599.62,-36 599.62,0 653.62,0 653.62,-36\"/>\n",
       "<text text-anchor=\"middle\" x=\"626.62\" y=\"-12.95\" font-family=\"Helvetica,sans-Serif\" font-size=\"14.00\">(...)</text>\n",
       "</g>\n",
       "<!-- 338&#45;&gt;634 -->\n",
       "<g id=\"edge14\" class=\"edge\">\n",
       "<title>338&#45;&gt;634</title>\n",
       "<path fill=\"none\" stroke=\"black\" d=\"M603.22,-71.51C606.84,-63.38 610.79,-54.52 614.39,-46.44\"/>\n",
       "<polygon fill=\"black\" stroke=\"black\" points=\"617.53,-47.99 618.41,-37.43 611.14,-45.14 617.53,-47.99\"/>\n",
       "</g>\n",
       "</g>\n",
       "</svg>\n"
      ],
      "text/plain": [
       "<graphviz.sources.Source at 0x14650ed81d0>"
      ]
     },
     "metadata": {},
     "output_type": "display_data"
    }
   ],
   "source": [
    "graph = graphviz.Source(dot_data)\n",
    "display(graph)"
   ]
  },
  {
   "cell_type": "code",
   "execution_count": 22,
   "id": "490ff231",
   "metadata": {},
   "outputs": [
    {
     "data": {
      "text/html": [
       "<style>#sk-container-id-2 {color: black;background-color: white;}#sk-container-id-2 pre{padding: 0;}#sk-container-id-2 div.sk-toggleable {background-color: white;}#sk-container-id-2 label.sk-toggleable__label {cursor: pointer;display: block;width: 100%;margin-bottom: 0;padding: 0.3em;box-sizing: border-box;text-align: center;}#sk-container-id-2 label.sk-toggleable__label-arrow:before {content: \"▸\";float: left;margin-right: 0.25em;color: #696969;}#sk-container-id-2 label.sk-toggleable__label-arrow:hover:before {color: black;}#sk-container-id-2 div.sk-estimator:hover label.sk-toggleable__label-arrow:before {color: black;}#sk-container-id-2 div.sk-toggleable__content {max-height: 0;max-width: 0;overflow: hidden;text-align: left;background-color: #f0f8ff;}#sk-container-id-2 div.sk-toggleable__content pre {margin: 0.2em;color: black;border-radius: 0.25em;background-color: #f0f8ff;}#sk-container-id-2 input.sk-toggleable__control:checked~div.sk-toggleable__content {max-height: 200px;max-width: 100%;overflow: auto;}#sk-container-id-2 input.sk-toggleable__control:checked~label.sk-toggleable__label-arrow:before {content: \"▾\";}#sk-container-id-2 div.sk-estimator input.sk-toggleable__control:checked~label.sk-toggleable__label {background-color: #d4ebff;}#sk-container-id-2 div.sk-label input.sk-toggleable__control:checked~label.sk-toggleable__label {background-color: #d4ebff;}#sk-container-id-2 input.sk-hidden--visually {border: 0;clip: rect(1px 1px 1px 1px);clip: rect(1px, 1px, 1px, 1px);height: 1px;margin: -1px;overflow: hidden;padding: 0;position: absolute;width: 1px;}#sk-container-id-2 div.sk-estimator {font-family: monospace;background-color: #f0f8ff;border: 1px dotted black;border-radius: 0.25em;box-sizing: border-box;margin-bottom: 0.5em;}#sk-container-id-2 div.sk-estimator:hover {background-color: #d4ebff;}#sk-container-id-2 div.sk-parallel-item::after {content: \"\";width: 100%;border-bottom: 1px solid gray;flex-grow: 1;}#sk-container-id-2 div.sk-label:hover label.sk-toggleable__label {background-color: #d4ebff;}#sk-container-id-2 div.sk-serial::before {content: \"\";position: absolute;border-left: 1px solid gray;box-sizing: border-box;top: 0;bottom: 0;left: 50%;z-index: 0;}#sk-container-id-2 div.sk-serial {display: flex;flex-direction: column;align-items: center;background-color: white;padding-right: 0.2em;padding-left: 0.2em;position: relative;}#sk-container-id-2 div.sk-item {position: relative;z-index: 1;}#sk-container-id-2 div.sk-parallel {display: flex;align-items: stretch;justify-content: center;background-color: white;position: relative;}#sk-container-id-2 div.sk-item::before, #sk-container-id-2 div.sk-parallel-item::before {content: \"\";position: absolute;border-left: 1px solid gray;box-sizing: border-box;top: 0;bottom: 0;left: 50%;z-index: -1;}#sk-container-id-2 div.sk-parallel-item {display: flex;flex-direction: column;z-index: 1;position: relative;background-color: white;}#sk-container-id-2 div.sk-parallel-item:first-child::after {align-self: flex-end;width: 50%;}#sk-container-id-2 div.sk-parallel-item:last-child::after {align-self: flex-start;width: 50%;}#sk-container-id-2 div.sk-parallel-item:only-child::after {width: 0;}#sk-container-id-2 div.sk-dashed-wrapped {border: 1px dashed gray;margin: 0 0.4em 0.5em 0.4em;box-sizing: border-box;padding-bottom: 0.4em;background-color: white;}#sk-container-id-2 div.sk-label label {font-family: monospace;font-weight: bold;display: inline-block;line-height: 1.2em;}#sk-container-id-2 div.sk-label-container {text-align: center;}#sk-container-id-2 div.sk-container {/* jupyter's `normalize.less` sets `[hidden] { display: none; }` but bootstrap.min.css set `[hidden] { display: none !important; }` so we also need the `!important` here to be able to override the default hidden behavior on the sphinx rendered scikit-learn.org. See: https://github.com/scikit-learn/scikit-learn/issues/21755 */display: inline-block !important;position: relative;}#sk-container-id-2 div.sk-text-repr-fallback {display: none;}</style><div id=\"sk-container-id-2\" class=\"sk-top-container\"><div class=\"sk-text-repr-fallback\"><pre>RandomizedSearchCV(cv=5, estimator=RandomForestClassifier(), n_iter=5,\n",
       "                   param_distributions={&#x27;max_depth&#x27;: &lt;scipy.stats._distn_infrastructure.rv_discrete_frozen object at 0x0000014649343BD0&gt;,\n",
       "                                        &#x27;n_estimators&#x27;: &lt;scipy.stats._distn_infrastructure.rv_discrete_frozen object at 0x000001464ADEBDD0&gt;})</pre><b>In a Jupyter environment, please rerun this cell to show the HTML representation or trust the notebook. <br />On GitHub, the HTML representation is unable to render, please try loading this page with nbviewer.org.</b></div><div class=\"sk-container\" hidden><div class=\"sk-item sk-dashed-wrapped\"><div class=\"sk-label-container\"><div class=\"sk-label sk-toggleable\"><input class=\"sk-toggleable__control sk-hidden--visually\" id=\"sk-estimator-id-2\" type=\"checkbox\" ><label for=\"sk-estimator-id-2\" class=\"sk-toggleable__label sk-toggleable__label-arrow\">RandomizedSearchCV</label><div class=\"sk-toggleable__content\"><pre>RandomizedSearchCV(cv=5, estimator=RandomForestClassifier(), n_iter=5,\n",
       "                   param_distributions={&#x27;max_depth&#x27;: &lt;scipy.stats._distn_infrastructure.rv_discrete_frozen object at 0x0000014649343BD0&gt;,\n",
       "                                        &#x27;n_estimators&#x27;: &lt;scipy.stats._distn_infrastructure.rv_discrete_frozen object at 0x000001464ADEBDD0&gt;})</pre></div></div></div><div class=\"sk-parallel\"><div class=\"sk-parallel-item\"><div class=\"sk-item\"><div class=\"sk-label-container\"><div class=\"sk-label sk-toggleable\"><input class=\"sk-toggleable__control sk-hidden--visually\" id=\"sk-estimator-id-3\" type=\"checkbox\" ><label for=\"sk-estimator-id-3\" class=\"sk-toggleable__label sk-toggleable__label-arrow\">estimator: RandomForestClassifier</label><div class=\"sk-toggleable__content\"><pre>RandomForestClassifier()</pre></div></div></div><div class=\"sk-serial\"><div class=\"sk-item\"><div class=\"sk-estimator sk-toggleable\"><input class=\"sk-toggleable__control sk-hidden--visually\" id=\"sk-estimator-id-4\" type=\"checkbox\" ><label for=\"sk-estimator-id-4\" class=\"sk-toggleable__label sk-toggleable__label-arrow\">RandomForestClassifier</label><div class=\"sk-toggleable__content\"><pre>RandomForestClassifier()</pre></div></div></div></div></div></div></div></div></div></div>"
      ],
      "text/plain": [
       "RandomizedSearchCV(cv=5, estimator=RandomForestClassifier(), n_iter=5,\n",
       "                   param_distributions={'max_depth': <scipy.stats._distn_infrastructure.rv_discrete_frozen object at 0x0000014649343BD0>,\n",
       "                                        'n_estimators': <scipy.stats._distn_infrastructure.rv_discrete_frozen object at 0x000001464ADEBDD0>})"
      ]
     },
     "execution_count": 22,
     "metadata": {},
     "output_type": "execute_result"
    }
   ],
   "source": [
    "param_dist = {'n_estimators': randint(50,500),\n",
    "              'max_depth': randint(1,20)}\n",
    "\n",
    "# Create a random forest classifier\n",
    "rf = RandomForestClassifier()\n",
    "\n",
    "# hyperparameter tuning\n",
    "rand_search = RandomizedSearchCV(rf, \n",
    "                                 param_distributions = param_dist, \n",
    "                                 n_iter=5, \n",
    "                                 cv=5)\n",
    "\n",
    "# Fit the random search object to the data\n",
    "rand_search.fit(x_train, y_train)"
   ]
  },
  {
   "cell_type": "code",
   "execution_count": 32,
   "id": "a50003d9",
   "metadata": {},
   "outputs": [
    {
     "name": "stdout",
     "output_type": "stream",
     "text": [
      "Best hyperparameters: {'max_depth': 12, 'n_estimators': 294}\n"
     ]
    }
   ],
   "source": [
    "# Create a variable for the best model\n",
    "best_rf = rand_search.best_estimator_\n",
    "\n",
    "# Print the best hyperparameters\n",
    "print('Best hyperparameters:',  rand_search.best_params_)"
   ]
  },
  {
   "cell_type": "code",
   "execution_count": 25,
   "id": "a371a9de",
   "metadata": {},
   "outputs": [
    {
     "data": {
      "image/png": "[encoded data removed]",
      "text/plain": [
       "<Figure size 640x480 with 2 Axes>"
      ]
     },
     "metadata": {},
     "output_type": "display_data"
    }
   ],
   "source": [
    "y_pred = best_rf.predict(x_test)\n",
    "\n",
    "# Create the confusion matrix\n",
    "cm = confusion_matrix(y_test, y_pred)\n",
    "\n",
    "ConfusionMatrixDisplay(confusion_matrix=cm).plot();"
   ]
  },
  {
   "cell_type": "code",
   "execution_count": 81,
   "id": "e4f1ceb4",
   "metadata": {},
   "outputs": [
    {
     "name": "stdout",
     "output_type": "stream",
     "text": [
      "Precision: 0.957286432160804\n",
      "Recall: 0.95625\n",
      "Accuracy: 0.9548872180451128\n",
      "F1: 0.9560853199498118\n",
      "ROC AUC score: 0.9581997387483671\n"
     ]
    }
   ],
   "source": [
    "from sklearn.metrics import precision_score,accuracy_score,recall_score, f1_score,roc_auc_score\n",
    "\n",
    "print(\"Precision:\",precision_score(y_test, y_pred, pos_label='good'))\n",
    "print(\"Recall:\",accuracy_score(y_test, y_pred))\n",
    "print(\"Accuracy:\",recall_score(y_test, y_pred, pos_label='good'))\n",
    "print(\"F1:\",f1_score(y_test, y_pred, pos_label='good'))\n",
    "y_pred_proba = rf.predict_proba(x_test)[:, 1]\n",
    "print(\"ROC AUC score:\", roc_auc_score(y_test, y_pred_proba))"
   ]
  },
  {
   "cell_type": "code",
   "execution_count": 77,
   "id": "3137fbbe",
   "metadata": {},
   "outputs": [
    {
     "data": {
      "image/png": "[encoded data removed]",
      "text/plain": [
       "<Figure size 640x480 with 1 Axes>"
      ]
     },
     "metadata": {},
     "output_type": "display_data"
    }
   ],
   "source": [
    "feature_importances = pd.Series(best_rf.feature_importances_, index=x_train.columns).sort_values(ascending=False)\n",
    "\n",
    "feature_importances.plot.bar();"
   ]
  },
  {
   "cell_type": "code",
   "execution_count": 97,
   "id": "6ac6f1f7-9eca-494b-aae7-fecf27ef9310",
   "metadata": {},
   "outputs": [],
   "source": [
    "#examine the features\n",
    "x['Quality numeric']=y.map({'good':1,'bad':0})\n",
    "correlation_matrix=x.corr()"
   ]
  },
  {
   "cell_type": "code",
   "execution_count": 98,
   "id": "aebc9a29-0b4a-411e-8072-0bc6b1d05ef8",
   "metadata": {},
   "outputs": [
    {
     "data": {
      "image/png": "[encoded data removed]",
      "text/plain": [
       "<Figure size 1000x800 with 2 Axes>"
      ]
     },
     "metadata": {},
     "output_type": "display_data"
    }
   ],
   "source": [
    "plt.figure(figsize=(10,8))\n",
    "sns.heatmap(correlation_matrix,annot=True,cmap='coolwarm',fmt=\".2f\",linewidth=5)\n",
    "plt.title('cor matrix')\n",
    "plt.show()\n",
    "x.drop(columns=['Quality numeric'], inplace=True)"
   ]
  },
  {
   "cell_type": "code",
   "execution_count": 73,
   "id": "0b073c9a-774e-413b-a81a-b1aaad79acf0",
   "metadata": {},
   "outputs": [],
   "source": [
    "from sklearn.ensemble import RandomForestClassifier, GradientBoostingClassifier\n",
    "from sklearn.linear_model import LogisticRegression\n",
    "from sklearn.svm import SVC\n",
    "from sklearn.tree import DecisionTreeClassifier\n",
    "from sklearn.neighbors import KNeighborsClassifier\n",
    "from sklearn.naive_bayes import GaussianNB\n",
    "from sklearn.neural_network import MLPClassifier\n",
    "from sklearn.metrics import classification_report"
   ]
  },
  {
   "cell_type": "code",
   "execution_count": 95,
   "id": "7e0d2c63-e2df-423b-8aa1-292b9d0c1c02",
   "metadata": {},
   "outputs": [
    {
     "name": "stdout",
     "output_type": "stream",
     "text": [
      "\n",
      "Classifier: DecisionTreeClassifier\n",
      "ROC AUC: 0.83\n",
      "Accuracy: 0.82\n",
      "Confusion Matrix:\n",
      "[[325  76]\n",
      " [ 71 328]]\n",
      "Classification Report:\n",
      "              precision    recall  f1-score   support\n",
      "\n",
      "         bad       0.82      0.81      0.82       401\n",
      "        good       0.81      0.82      0.82       399\n",
      "\n",
      "    accuracy                           0.82       800\n",
      "   macro avg       0.82      0.82      0.82       800\n",
      "weighted avg       0.82      0.82      0.82       800\n",
      "\n",
      "----------------------------\n",
      "\n",
      "Classifier: GradientBoostingClassifier\n",
      "ROC AUC: 0.94\n",
      "Accuracy: 0.87\n",
      "Confusion Matrix:\n",
      "[[349  52]\n",
      " [ 52 347]]\n",
      "Classification Report:\n",
      "              precision    recall  f1-score   support\n",
      "\n",
      "         bad       0.87      0.87      0.87       401\n",
      "        good       0.87      0.87      0.87       399\n",
      "\n",
      "    accuracy                           0.87       800\n",
      "   macro avg       0.87      0.87      0.87       800\n",
      "weighted avg       0.87      0.87      0.87       800\n",
      "\n",
      "----------------------------\n",
      "\n",
      "Classifier: LogisticRegression\n",
      "ROC AUC: 0.82\n",
      "Accuracy: 0.75\n",
      "Confusion Matrix:\n",
      "[[303  98]\n",
      " [ 99 300]]\n",
      "Classification Report:\n",
      "              precision    recall  f1-score   support\n",
      "\n",
      "         bad       0.75      0.76      0.75       401\n",
      "        good       0.75      0.75      0.75       399\n",
      "\n",
      "    accuracy                           0.75       800\n",
      "   macro avg       0.75      0.75      0.75       800\n",
      "weighted avg       0.75      0.75      0.75       800\n",
      "\n",
      "----------------------------\n",
      "\n",
      "Classifier: SVC\n",
      "Accuracy: 0.91\n",
      "Confusion Matrix:\n",
      "[[362  39]\n",
      " [ 35 364]]\n",
      "Classification Report:\n",
      "              precision    recall  f1-score   support\n",
      "\n",
      "         bad       0.91      0.90      0.91       401\n",
      "        good       0.90      0.91      0.91       399\n",
      "\n",
      "    accuracy                           0.91       800\n",
      "   macro avg       0.91      0.91      0.91       800\n",
      "weighted avg       0.91      0.91      0.91       800\n",
      "\n",
      "----------------------------\n",
      "\n",
      "Classifier: DecisionTreeClassifier\n",
      "ROC AUC: 0.81\n",
      "Accuracy: 0.81\n",
      "Confusion Matrix:\n",
      "[[324  77]\n",
      " [ 75 324]]\n",
      "Classification Report:\n",
      "              precision    recall  f1-score   support\n",
      "\n",
      "         bad       0.81      0.81      0.81       401\n",
      "        good       0.81      0.81      0.81       399\n",
      "\n",
      "    accuracy                           0.81       800\n",
      "   macro avg       0.81      0.81      0.81       800\n",
      "weighted avg       0.81      0.81      0.81       800\n",
      "\n",
      "----------------------------\n",
      "\n",
      "Classifier: KNeighborsClassifier\n",
      "ROC AUC: 0.95\n",
      "Accuracy: 0.90\n",
      "Confusion Matrix:\n",
      "[[356  45]\n",
      " [ 37 362]]\n",
      "Classification Report:\n",
      "              precision    recall  f1-score   support\n",
      "\n",
      "         bad       0.91      0.89      0.90       401\n",
      "        good       0.89      0.91      0.90       399\n",
      "\n",
      "    accuracy                           0.90       800\n",
      "   macro avg       0.90      0.90      0.90       800\n",
      "weighted avg       0.90      0.90      0.90       800\n",
      "\n",
      "----------------------------\n",
      "\n",
      "Classifier: GaussianNB\n",
      "ROC AUC: 0.85\n",
      "Accuracy: 0.76\n",
      "Confusion Matrix:\n",
      "[[312  89]\n",
      " [101 298]]\n",
      "Classification Report:\n",
      "              precision    recall  f1-score   support\n",
      "\n",
      "         bad       0.76      0.78      0.77       401\n",
      "        good       0.77      0.75      0.76       399\n",
      "\n",
      "    accuracy                           0.76       800\n",
      "   macro avg       0.76      0.76      0.76       800\n",
      "weighted avg       0.76      0.76      0.76       800\n",
      "\n",
      "----------------------------\n",
      "\n",
      "Classifier: MLPClassifier\n",
      "ROC AUC: 0.98\n",
      "Accuracy: 0.96\n",
      "Confusion Matrix:\n",
      "[[384  17]\n",
      " [ 18 381]]\n",
      "Classification Report:\n",
      "              precision    recall  f1-score   support\n",
      "\n",
      "         bad       0.96      0.96      0.96       401\n",
      "        good       0.96      0.95      0.96       399\n",
      "\n",
      "    accuracy                           0.96       800\n",
      "   macro avg       0.96      0.96      0.96       800\n",
      "weighted avg       0.96      0.96      0.96       800\n",
      "\n",
      "----------------------------\n"
     ]
    }
   ],
   "source": [
    "#lets see how some other classifiers perform\n",
    "classifiers = [\n",
    "    DecisionTreeClassifier(max_depth=13, random_state=42),\n",
    "    GradientBoostingClassifier(random_state=42),\n",
    "    LogisticRegression(random_state=42),\n",
    "    SVC(random_state=42),\n",
    "    DecisionTreeClassifier(random_state=42),\n",
    "    KNeighborsClassifier(),\n",
    "    GaussianNB(),\n",
    "    MLPClassifier(max_iter=2000, random_state=42),\n",
    "]\n",
    "for clf in classifiers:\n",
    "    clf.fit(x_train,y_train)\n",
    "    print(f'\\nClassifier: {clf.__class__.__name__}')\n",
    "    y_pred=clf.predict(x_test)\n",
    "    accuracy=accuracy_score(y_test,y_pred)\n",
    "    conf_matrix = confusion_matrix(y_test, y_pred)\n",
    "    if hasattr(clf, \"predict_proba\"):  \n",
    "        y_pred_proba = clf.predict_proba(x_test)[:, 1]  \n",
    "        roc_auc = roc_auc_score(y_test, y_pred_proba)\n",
    "        print(f'ROC AUC: {roc_auc:.2f}')\n",
    "    else:\n",
    "        roc_auc = None  # Some classifiers like SVC don't support predict_proba\n",
    "    classification_rep = classification_report(y_test, y_pred)\n",
    "    print(f'Accuracy: {accuracy:.2f}')\n",
    "    print('Confusion Matrix:')\n",
    "    print(conf_matrix)\n",
    "    print('Classification Report:')\n",
    "    print(classification_rep)\n",
    "    print('----------------------------' )\n"
   ]
  }
 ],
 "metadata": {
  "kernelspec": {
   "display_name": "Python 3 (ipykernel)",
   "language": "python",
   "name": "python3"
  },
  "language_info": {
   "codemirror_mode": {
    "name": "ipython",
    "version": 3
   },
   "file_extension": ".py",
   "mimetype": "text/x-python",
   "name": "python",
   "nbconvert_exporter": "python",
   "pygments_lexer": "ipython3",
   "version": "3.11.7"
  }
 },
 "nbformat": 4,
 "nbformat_minor": 5
}
